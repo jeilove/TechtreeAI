{
 "cells": [
  {
   "cell_type": "markdown",
   "metadata": {},
   "source": [
    "## 정보 이론(Information theory)"
   ]
  },
  {
   "cell_type": "code",
   "execution_count": 1,
   "metadata": {},
   "outputs": [],
   "source": [
    "import numpy as np"
   ]
  },
  {
   "cell_type": "code",
   "execution_count": 2,
   "metadata": {},
   "outputs": [],
   "source": [
    "### 8개의 기호(예 : 1~8 또는 A/B/C/D/E/F/G/H 또는 월화수목금토일8 등)를 압축할 떄 필요한 비트 수"
   ]
  },
  {
   "cell_type": "code",
   "execution_count": 3,
   "metadata": {},
   "outputs": [
    {
     "data": {
      "text/plain": [
       "3.0"
      ]
     },
     "execution_count": 3,
     "metadata": {},
     "output_type": "execute_result"
    }
   ],
   "source": [
    "np.log2(8)"
   ]
  },
  {
   "cell_type": "markdown",
   "metadata": {},
   "source": [
    "### 월화수목금토일 : 7개의 요일을 압축할 때 필요한 비트 수"
   ]
  },
  {
   "cell_type": "code",
   "execution_count": 4,
   "metadata": {},
   "outputs": [
    {
     "data": {
      "text/plain": [
       "2.8073549220576042"
      ]
     },
     "execution_count": 4,
     "metadata": {},
     "output_type": "execute_result"
    }
   ],
   "source": [
    "np.log2(7)"
   ]
  },
  {
   "cell_type": "markdown",
   "metadata": {},
   "source": [
    "### N개의 문자의 빈도값(확률)이 다를 때\n",
    "문자 예 : A~Z (ABCD : 90%, E~Z : 10%)"
   ]
  },
  {
   "cell_type": "code",
   "execution_count": 5,
   "metadata": {},
   "outputs": [
    {
     "data": {
      "text/plain": [
       "2.7085928531393026"
      ]
     },
     "execution_count": 5,
     "metadata": {},
     "output_type": "execute_result"
    }
   ],
   "source": [
    "4 * 0.225 * np.log2(1./0.225) + 22 * 0.0045 * np.log2(1./0.0045)"
   ]
  },
  {
   "cell_type": "markdown",
   "metadata": {},
   "source": [
    "### 개를 좋아하는 Bob의 엔트로피는\n",
    "    50% : dog, 25% : cat, 12.5% : fish, 12.5% : bird"
   ]
  },
  {
   "cell_type": "code",
   "execution_count": 6,
   "metadata": {},
   "outputs": [
    {
     "name": "stdout",
     "output_type": "stream",
     "text": [
      "1.75\n"
     ]
    }
   ],
   "source": [
    "entropy_Bob_code = 0.5 * np.log2(1./0.5) + 0.25 * np.log2(1./0.25) + 0.125 * np.log2(1./0.125) + 0.125 * np.log2(1./0.125)\n",
    "print(entropy_Bob_code)"
   ]
  },
  {
   "cell_type": "markdown",
   "metadata": {},
   "source": [
    "### 고양이를 좋아하는 Alice의 엔트로피는\n",
    "12.5% : dog, 50% : cat, 25% : fish, 12.5% : bird"
   ]
  },
  {
   "cell_type": "code",
   "execution_count": 7,
   "metadata": {},
   "outputs": [
    {
     "name": "stdout",
     "output_type": "stream",
     "text": [
      "1.75\n"
     ]
    }
   ],
   "source": [
    "entropy_Alice_code = 0.125 * np.log2(1./0.125) + 0.5 * np.log2(1./0.5) + 0.25 * np.log2(1./0.25) + 0.125 * np.log2(1./0.125)\n",
    "print(entropy_Alice_code)"
   ]
  },
  {
   "cell_type": "markdown",
   "metadata": {},
   "source": [
    "#### Bob과 Alice의 엔트로피는 같다?"
   ]
  },
  {
   "cell_type": "code",
   "execution_count": 9,
   "metadata": {},
   "outputs": [
    {
     "data": {
      "text/plain": [
       "True"
      ]
     },
     "execution_count": 9,
     "metadata": {},
     "output_type": "execute_result"
    }
   ],
   "source": [
    "np.equal(entropy_Bob_code, entropy_Alice_code)"
   ]
  },
  {
   "cell_type": "markdown",
   "metadata": {},
   "source": [
    "### Alice가 나와 대화를 나눴다. 그런데, Bob의 코드값으로 나눴다면?\n",
    "    cross-entropy라고 한다."
   ]
  },
  {
   "cell_type": "code",
   "execution_count": 10,
   "metadata": {},
   "outputs": [
    {
     "name": "stdout",
     "output_type": "stream",
     "text": [
      "2.25\n"
     ]
    }
   ],
   "source": [
    "entropy_Alice_by_Bob_code = 0.125 * np.log2(1./0.5) + 0.5 * np.log2(1./0.25) + 0.25 * np.log2(1./0.125) + 0.125 * np.log2(1./0.125)\n",
    "print(entropy_Alice_by_Bob_code)"
   ]
  },
  {
   "cell_type": "markdown",
   "metadata": {},
   "source": [
    "### Bob이 나와 대화를 나눴다. 그런데, Alice의 코드값으로 나눴다면?"
   ]
  },
  {
   "cell_type": "code",
   "execution_count": 11,
   "metadata": {},
   "outputs": [
    {
     "name": "stdout",
     "output_type": "stream",
     "text": [
      "2.375\n"
     ]
    }
   ],
   "source": [
    "entropy_Bob_by_Alice_code = 0.5 * np.log2(1./0.125) + 0.25 * np.log2(1./0.5) + 0.125 * np.log2(1./0.25) + 0.125 * np.log2(1./0.125)\n",
    "print(entropy_Bob_by_Alice_code)"
   ]
  },
  {
   "cell_type": "markdown",
   "metadata": {},
   "source": [
    "#### Bob과 Alice의 크로스-엔트로피는 같다?"
   ]
  },
  {
   "cell_type": "code",
   "execution_count": 12,
   "metadata": {},
   "outputs": [
    {
     "data": {
      "text/plain": [
       "False"
      ]
     },
     "execution_count": 12,
     "metadata": {},
     "output_type": "execute_result"
    }
   ],
   "source": [
    "np.equal(entropy_Bob_by_Alice_code, entropy_Alice_by_Bob_code)"
   ]
  },
  {
   "cell_type": "markdown",
   "metadata": {},
   "source": [
    "### Alice의 cross-entropy 값과 Bob의 entropy 값의 차이를 KL divergence(Kullback-Leibler divergence)라고 한다. 서로간의 값이 다르기 때문에 distance가 아닌 divergence라고 한다."
   ]
  },
  {
   "cell_type": "code",
   "execution_count": 14,
   "metadata": {},
   "outputs": [
    {
     "name": "stdout",
     "output_type": "stream",
     "text": [
      "0.5\n"
     ]
    }
   ],
   "source": [
    "KL_divergence_Alice_by_Bob_code = entropy_Alice_by_Bob_code - entropy_Bob_code\n",
    "print(KL_divergence_Alice_by_Bob_code)"
   ]
  },
  {
   "cell_type": "markdown",
   "metadata": {},
   "source": [
    "#### Bob의 cross-entropy 값과 Alice의 entropy 값의 차이"
   ]
  },
  {
   "cell_type": "code",
   "execution_count": 18,
   "metadata": {},
   "outputs": [
    {
     "name": "stdout",
     "output_type": "stream",
     "text": [
      "0.625\n"
     ]
    }
   ],
   "source": [
    "KL_divergence_Bob_by_Alice_code = entropy_Bob_by_Alice_code - entropy_Alice_code\n",
    "print(KL_divergence_Bob_by_Alice_code)"
   ]
  },
  {
   "cell_type": "markdown",
   "metadata": {},
   "source": [
    "#### Bob과 Alice의 KLdivergence는 같다?"
   ]
  },
  {
   "cell_type": "code",
   "execution_count": 19,
   "metadata": {},
   "outputs": [
    {
     "data": {
      "text/plain": [
       "False"
      ]
     },
     "execution_count": 19,
     "metadata": {},
     "output_type": "execute_result"
    }
   ],
   "source": [
    "np.equal(KL_divergence_Bob_by_Alice_code, KL_divergence_Alice_by_Bob_code)"
   ]
  },
  {
   "cell_type": "markdown",
   "metadata": {},
   "source": [
    "### Mutual information (=information gain, 상호정보량)"
   ]
  },
  {
   "cell_type": "code",
   "execution_count": null,
   "metadata": {},
   "outputs": [],
   "source": []
  }
 ],
 "metadata": {
  "anaconda-cloud": {},
  "kernelspec": {
   "display_name": "Python [default]",
   "language": "python",
   "name": "python3"
  },
  "language_info": {
   "codemirror_mode": {
    "name": "ipython",
    "version": 3
   },
   "file_extension": ".py",
   "mimetype": "text/x-python",
   "name": "python",
   "nbconvert_exporter": "python",
   "pygments_lexer": "ipython3",
   "version": "3.5.2"
  }
 },
 "nbformat": 4,
 "nbformat_minor": 1
}
